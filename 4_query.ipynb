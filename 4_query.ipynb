{
 "cells": [
  {
   "cell_type": "markdown",
   "metadata": {},
   "source": [
    "# RAG on HTML documents\n"
   ]
  },
  {
   "cell_type": "markdown",
   "metadata": {},
   "source": [
    "## Step-1: Configuration"
   ]
  },
  {
   "cell_type": "code",
   "execution_count": 1,
   "metadata": {},
   "outputs": [],
   "source": [
    "from my_config import MY_CONFIG"
   ]
  },
  {
   "cell_type": "markdown",
   "metadata": {},
   "source": [
    "## Step-2: Setup Embeddings"
   ]
  },
  {
   "cell_type": "code",
   "execution_count": 2,
   "metadata": {},
   "outputs": [],
   "source": [
    "# If connection to https://huggingface.co/ failed, uncomment the following path\n",
    "import os\n",
    "os.environ['HF_ENDPOINT'] = 'https://hf-mirror.com'"
   ]
  },
  {
   "cell_type": "code",
   "execution_count": 3,
   "metadata": {},
   "outputs": [
    {
     "name": "stderr",
     "output_type": "stream",
     "text": [
      "/home/sujee/apps/anaconda3/envs/rag-website-3-docling/lib/python3.11/site-packages/tqdm/auto.py:21: TqdmWarning: IProgress not found. Please update jupyter and ipywidgets. See https://ipywidgets.readthedocs.io/en/stable/user_install.html\n",
      "  from .autonotebook import tqdm as notebook_tqdm\n"
     ]
    }
   ],
   "source": [
    "from llama_index.embeddings.huggingface import HuggingFaceEmbedding\n",
    "from llama_index.core import Settings\n",
    "\n",
    "Settings.embed_model = HuggingFaceEmbedding(\n",
    "    model_name = MY_CONFIG.EMBEDDING_MODEL\n",
    ")"
   ]
  },
  {
   "cell_type": "markdown",
   "metadata": {},
   "source": [
    "## Step-3: Connect to Milvus"
   ]
  },
  {
   "cell_type": "code",
   "execution_count": 4,
   "metadata": {},
   "outputs": [
    {
     "name": "stderr",
     "output_type": "stream",
     "text": [
      "2025-03-28 14:43:57,576 [DEBUG][_create_connection]: Created new connection using: d330a7f6f1e74a6081facd45190a5cc4 (async_milvus_client.py:600)\n"
     ]
    },
    {
     "name": "stdout",
     "output_type": "stream",
     "text": [
      "✅ Connected to Milvus instance:  ./rag_website.db\n"
     ]
    }
   ],
   "source": [
    "# connect to vector db\n",
    "from llama_index.core import VectorStoreIndex, StorageContext\n",
    "from llama_index.vector_stores.milvus import MilvusVectorStore\n",
    "\n",
    "vector_store = MilvusVectorStore(\n",
    "    uri = MY_CONFIG.DB_URI ,\n",
    "    dim = MY_CONFIG.EMBEDDING_LENGTH , \n",
    "    collection_name = MY_CONFIG.COLLECTION_NAME,\n",
    "    overwrite=False  # so we load the index from db\n",
    ")\n",
    "storage_context = StorageContext.from_defaults(vector_store=vector_store)\n",
    "\n",
    "print (\"✅ Connected to Milvus instance: \", MY_CONFIG.DB_URI )"
   ]
  },
  {
   "cell_type": "markdown",
   "metadata": {},
   "source": [
    "## Step-4: Load Document Index from DB"
   ]
  },
  {
   "cell_type": "code",
   "execution_count": 5,
   "metadata": {},
   "outputs": [
    {
     "name": "stdout",
     "output_type": "stream",
     "text": [
      "✅ Loaded index from vector db: ./rag_website.db\n",
      "CPU times: user 92.8 ms, sys: 9.95 ms, total: 103 ms\n",
      "Wall time: 102 ms\n"
     ]
    }
   ],
   "source": [
    "%%time\n",
    "\n",
    "from llama_index.core import VectorStoreIndex\n",
    "\n",
    "index = VectorStoreIndex.from_vector_store(\n",
    "    vector_store=vector_store, storage_context=storage_context)\n",
    "\n",
    "print (\"✅ Loaded index from vector db:\", MY_CONFIG.DB_URI )"
   ]
  },
  {
   "cell_type": "markdown",
   "metadata": {},
   "source": [
    "## Step-5: Setup LLM"
   ]
  },
  {
   "cell_type": "code",
   "execution_count": 6,
   "metadata": {},
   "outputs": [],
   "source": [
    "from llama_index.llms.replicate import Replicate\n",
    "from llama_index.core import Settings\n",
    "\n",
    "llm = Replicate(\n",
    "    model= MY_CONFIG.LLM_MODEL,\n",
    "    temperature=0.1\n",
    ")\n",
    "\n",
    "Settings.llm = llm"
   ]
  },
  {
   "cell_type": "markdown",
   "metadata": {},
   "source": [
    "## Step-6: Query"
   ]
  },
  {
   "cell_type": "code",
   "execution_count": 7,
   "metadata": {},
   "outputs": [
    {
     "name": "stdout",
     "output_type": "stream",
     "text": [
      "The AI Alliance is an international community of researchers, developers, and organizational leaders committed to supporting and enhancing open innovation across the AI technology landscape. Its primary focus is to accelerate progress, improve safety, security, and trust in AI, and maximize benefits to people and society worldwide. The Alliance aims to foster an open community where developers and researchers can collaborate responsibly to innovate in AI, ensuring scientific rigor, trust, safety, security, diversity, and economic competitiveness. It brings together over 100 members from various sectors, including companies, startups, universities, research institutions, government organizations, and non-profit foundations, to work on aspects of AI education, research, development, deployment, and governance. The AI Alliance will operate through member-driven working groups, a governing board, and technical oversight committees, while also partnering with existing initiatives from governments, non-profit, and civil society organizations.\n"
     ]
    }
   ],
   "source": [
    "query_engine = index.as_query_engine()\n",
    "res = query_engine.query(\"What is AI Alliance?\")\n",
    "print(res)"
   ]
  },
  {
   "cell_type": "code",
   "execution_count": 8,
   "metadata": {},
   "outputs": [
    {
     "name": "stdout",
     "output_type": "stream",
     "text": [
      "The AI Alliance has six goal-oriented thematic programs, which are referred to as Focus Areas. These Focus Areas are:\n",
      "\n",
      "1. AI for Social Good\n",
      "2. AI Safety and Security\n",
      "3. AI Ethics and Fairness\n",
      "4. AI Education and Workforce Development\n",
      "5. AI Governance and Policy\n",
      "6. AI Infrastructure and Scalability\n",
      "\n",
      "These Focus Areas guide the AI Alliance's efforts to improve foundational capabilities, safety, security, and trust in AI, while responsibly maximizing benefits to people and society worldwide.\n"
     ]
    }
   ],
   "source": [
    "query_engine = index.as_query_engine()\n",
    "res = query_engine.query(\"What are the main focus areas of AI Alliance?\")\n",
    "print(res)"
   ]
  },
  {
   "cell_type": "code",
   "execution_count": 9,
   "metadata": {},
   "outputs": [
    {
     "name": "stdout",
     "output_type": "stream",
     "text": [
      "Based on the provided context, the AI Alliance consists of two main types of projects:\n",
      "\n",
      "1. **Core Projects**: These are foundational building blocks of the AI Alliance. They are managed directly by the AI Alliance and have goals and a roadmap to address substantial cross-community challenges. Core Projects are openly licensed and are opportunities for individual contributors and members to collaborate and make an impact on the future of AI.\n",
      "\n",
      "2. **Affiliated Projects**: These are typically from member organizations who seek deeper collaboration and impact, often by building with or on Core Projects or other Affiliated Projects. The project owners retain full management of the project, but they must have open permissively licensed artifacts and clear community calls-to-action.\n",
      "\n",
      "The context does not provide a specific list of Core or Affiliated Projects. However, it emphasizes that the AI Alliance encourages grassroots collaboration and supports the discovery, enabling, and scaling of good ideas and contributions from across the global AI community.\n"
     ]
    }
   ],
   "source": [
    "query_engine = index.as_query_engine()\n",
    "res = query_engine.query(\"What are some ai alliance projects?\")\n",
    "print(res)"
   ]
  },
  {
   "cell_type": "code",
   "execution_count": 10,
   "metadata": {},
   "outputs": [
    {
     "name": "stdout",
     "output_type": "stream",
     "text": [
      "The demo night, Open Source AI Demo Night, was held in San Francisco, California.\n"
     ]
    }
   ],
   "source": [
    "query_engine = index.as_query_engine()\n",
    "res = query_engine.query(\"Where was the demo night held?\")\n",
    "print(res)"
   ]
  },
  {
   "cell_type": "code",
   "execution_count": 11,
   "metadata": {},
   "outputs": [
    {
     "name": "stdout",
     "output_type": "stream",
     "text": [
      "The context information provided does not contain any details about the moon landing. It discusses various AI-related projects, frameworks, and initiatives, but there is no mention of a moon landing event.\n"
     ]
    }
   ],
   "source": [
    "query_engine = index.as_query_engine()\n",
    "res = query_engine.query(\"When was the moon landing?\")\n",
    "print(res)"
   ]
  },
  {
   "cell_type": "code",
   "execution_count": 12,
   "metadata": {},
   "outputs": [
    {
     "name": "stdout",
     "output_type": "stream",
     "text": [
      "The AI Alliance is working on the Materials and Chemistry Working Group, which focuses on curating datasets, tasks, and benchmarks for materials science. They aim to build out foundation models in chemistry for predicting properties, experimental outcomes, or generating new candidates. Additionally, they are creating a framework to foster collaboration between human experts and AI agents to address global urgent challenges in sustainability and the safety of materials.\n"
     ]
    }
   ],
   "source": [
    "query_engine = index.as_query_engine()\n",
    "res = query_engine.query(\"What is the AI Alliance doing in the area of material science?\")\n",
    "print(res)"
   ]
  },
  {
   "cell_type": "code",
   "execution_count": 13,
   "metadata": {},
   "outputs": [
    {
     "name": "stdout",
     "output_type": "stream",
     "text": [
      "To join the AI Alliance, you can follow these steps:\n",
      "\n",
      "1. **Apply to become a collaborator**: Submit the form at the \"Become a collaborator\" section to express your interest in joining one of the working groups or major initiatives. The AI Alliance will review your request and get back to you within 30 days or fewer.\n",
      "\n",
      "2. **Subscribe to the community newsletter**: By submitting the form at the \"Subscribe to our community newsletter\" section, you agree that the AI Alliance will collect and process your personal information to keep you informed about AI Alliance initiatives and enable your involvement in AI Alliance activities. You can also request a permanent deletion of your personal information at any time.\n",
      "\n",
      "3. **Join the community**: The AI Alliance is a community of leading AI innovators, researchers, developers, engineers, and early enterprise adopters. You can attend events, contribute to projects, and engage with the community through their website and social media channels.\n",
      "\n",
      "4. **Join as an official member**: If your organization would like to join the AI Alliance as an official member, use the contact form provided for this purpose. The membership team will get back to you.\n",
      "\n",
      "5. **Join a working group**: Request an invite to join one of the AI Alliance's working groups to contribute to core and affiliated projects.\n",
      "\n",
      "6. **Attend events**: Participate in both online and in-person events, such as the AI Alliance media happy hour, panel discussions, and workshops, to engage with the community and learn about AI Alliance initiatives.\n",
      "\n",
      "7. **Follow the AI Alliance on social media**: Stay updated on the latest news, events, and discussions by following the AI Alliance on their preferred social media platforms.\n",
      "\n",
      "By following these steps, you can become an active member of the AI Alliance community and contribute to its mission of advancing open, safe, and responsible AI.\n"
     ]
    }
   ],
   "source": [
    "query_engine = index.as_query_engine()\n",
    "res = query_engine.query(\"How do I join the AI Alliance?\")\n",
    "print(res)"
   ]
  },
  {
   "cell_type": "code",
   "execution_count": null,
   "metadata": {},
   "outputs": [],
   "source": []
  }
 ],
 "metadata": {
  "kernelspec": {
   "display_name": "rag-website-3-docling",
   "language": "python",
   "name": "python3"
  },
  "language_info": {
   "codemirror_mode": {
    "name": "ipython",
    "version": 3
   },
   "file_extension": ".py",
   "mimetype": "text/x-python",
   "name": "python",
   "nbconvert_exporter": "python",
   "pygments_lexer": "ipython3",
   "version": "3.11.11"
  }
 },
 "nbformat": 4,
 "nbformat_minor": 4
}
